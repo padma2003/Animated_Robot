{
  "nbformat": 4,
  "nbformat_minor": 0,
  "metadata": {
    "colab": {
      "provenance": [],
      "authorship_tag": "ABX9TyMd+mZ3uWXN7aKC2vReSwfq",
      "include_colab_link": true
    },
    "kernelspec": {
      "name": "python3",
      "display_name": "Python 3"
    },
    "language_info": {
      "name": "python"
    }
  },
  "cells": [
    {
      "cell_type": "markdown",
      "metadata": {
        "id": "view-in-github",
        "colab_type": "text"
      },
      "source": [
        "<a href=\"https://colab.research.google.com/github/padma2003/Animated_Robot/blob/main/Python%20List%20Manipulation%20Task.ipynb\" target=\"_parent\"><img src=\"https://colab.research.google.com/assets/colab-badge.svg\" alt=\"Open In Colab\"/></a>"
      ]
    },
    {
      "cell_type": "code",
      "execution_count": 1,
      "metadata": {
        "id": "ZBzToUL2QUE7"
      },
      "outputs": [],
      "source": [
        "ListManipulator = []"
      ]
    },
    {
      "cell_type": "code",
      "source": [
        "ListManipulator = [\"Mahesh\",\"anusha\",\"siva\"]"
      ],
      "metadata": {
        "id": "JxpAxCrkSHXY"
      },
      "execution_count": 2,
      "outputs": []
    },
    {
      "cell_type": "code",
      "source": [
        "# Take a list of elements ass a parameter and appends them to the internal list\n",
        "\n",
        "ListManipulator = [\"Mahesh\",\"anusha\",\"siva\"]\n",
        "ListManipulator.append(\"Suri\")\n",
        "print(ListManipulator)"
      ],
      "metadata": {
        "colab": {
          "base_uri": "https://localhost:8080/"
        },
        "id": "vaNnDxj5SRD7",
        "outputId": "5e712df2-f10c-4a28-e15f-665dc2315545"
      },
      "execution_count": 3,
      "outputs": [
        {
          "output_type": "stream",
          "name": "stdout",
          "text": [
            "['Mahesh', 'anusha', 'siva', 'Suri']\n"
          ]
        }
      ]
    },
    {
      "cell_type": "code",
      "source": [
        "# Remove Duplicate values from the internal list\n",
        "\n",
        "ListManipulator = [\"Mahesh\",\"anusha\",\"siva\",'Suri',\"Mahesh\",\"Venu\",\"Suri\"]\n",
        "new_list = []\n",
        "for item in ListManipulator:\n",
        "    if item not in new_list:\n",
        "        new_list.append(item)\n",
        "print(new_list)\n"
      ],
      "metadata": {
        "colab": {
          "base_uri": "https://localhost:8080/"
        },
        "id": "-zqixf9nSUMK",
        "outputId": "1739cfef-d559-4abb-fe4d-379e80c6cfad"
      },
      "execution_count": 4,
      "outputs": [
        {
          "output_type": "stream",
          "name": "stdout",
          "text": [
            "['Mahesh', 'anusha', 'siva', 'Suri', 'Venu']\n"
          ]
        }
      ]
    },
    {
      "cell_type": "code",
      "source": [
        "# Reverse the order of the elements in the internal list\n",
        "\n",
        "ListManipulator = [\"Mahesh\",\"anusha\",\"siva\",'Suri',\"Mahesh\",\"Venu\",\"Suri\"]\n",
        "ListManipulator.reverse()\n",
        "print(ListManipulator)"
      ],
      "metadata": {
        "colab": {
          "base_uri": "https://localhost:8080/"
        },
        "id": "EAbFPXhaSX8f",
        "outputId": "88ae83f0-4277-4e97-ba6e-295b0d573c33"
      },
      "execution_count": 5,
      "outputs": [
        {
          "output_type": "stream",
          "name": "stdout",
          "text": [
            "['Suri', 'Venu', 'Mahesh', 'Suri', 'siva', 'anusha', 'Mahesh']\n"
          ]
        }
      ]
    },
    {
      "cell_type": "code",
      "source": [
        "# Sort the elements in the internal list in ascending order\n",
        "\n",
        "my_list = [3, 1, 4, 1, 5, 9, 2, 6, 5, 3, 5]\n",
        "my_list.sort()\n",
        "print(my_list)"
      ],
      "metadata": {
        "colab": {
          "base_uri": "https://localhost:8080/"
        },
        "id": "OZGaPwGmSdlU",
        "outputId": "66a3b6dc-13a9-4b09-bc2e-2c5d89058459"
      },
      "execution_count": 6,
      "outputs": [
        {
          "output_type": "stream",
          "name": "stdout",
          "text": [
            "[1, 1, 2, 3, 3, 4, 5, 5, 5, 6, 9]\n"
          ]
        }
      ]
    },
    {
      "cell_type": "code",
      "source": [
        "# Get unique elements\n",
        "\n",
        "ListManipulator = [\"Mahesh\",\"anusha\",\"siva\",'Suri',\"Mahesh\",\"Venu\",\"Suri\"]\n",
        "unique_elements = list(set(ListManipulator))\n",
        "print(unique_elements)"
      ],
      "metadata": {
        "colab": {
          "base_uri": "https://localhost:8080/"
        },
        "id": "XudmWCUNSj_P",
        "outputId": "34280d7d-1313-4c36-860f-2db507be076e"
      },
      "execution_count": 7,
      "outputs": [
        {
          "output_type": "stream",
          "name": "stdout",
          "text": [
            "['siva', 'Suri', 'Mahesh', 'Venu', 'anusha']\n"
          ]
        }
      ]
    },
    {
      "cell_type": "code",
      "source": [
        "# remove elements ass a parameter and appends them to the internal list\n",
        "\n",
        "ListManipulator = [\"Mahesh\",\"anusha\",\"siva\",\"Suri\"]\n",
        "ListManipulator.remove(\"Suri\")\n",
        "print(ListManipulator)"
      ],
      "metadata": {
        "colab": {
          "base_uri": "https://localhost:8080/"
        },
        "id": "vDNT3Qj3Sm9-",
        "outputId": "1d7eeb0f-226c-4aa0-bb7f-adb58281bdac"
      },
      "execution_count": 8,
      "outputs": [
        {
          "output_type": "stream",
          "name": "stdout",
          "text": [
            "['Mahesh', 'anusha', 'siva']\n"
          ]
        }
      ]
    },
    {
      "cell_type": "code",
      "source": [
        "# Returns the current state of the internal list\n",
        "\n",
        "class ListManipulator:\n",
        "    def __init__(self, elements=[]):\n",
        "        self.elements = elements\n",
        "\n",
        "    def get_elements(self):\n",
        "        return self.elements\n",
        "\n",
        "# Create an instance of ListManipulator\n",
        "list_manipulator = ListManipulator([1, 2, 3, 4])\n",
        "\n",
        "# Retrieve the current state of the internal list value\n",
        "current_list_state = list_manipulator.get_elements()\n",
        "\n",
        "print(current_list_state)  # Output: [1, 2, 3, 4]\n"
      ],
      "metadata": {
        "colab": {
          "base_uri": "https://localhost:8080/"
        },
        "id": "I854ldvbSq0J",
        "outputId": "7469dd57-86e0-4a73-8972-c12434e36044"
      },
      "execution_count": 9,
      "outputs": [
        {
          "output_type": "stream",
          "name": "stdout",
          "text": [
            "[1, 2, 3, 4]\n"
          ]
        }
      ]
    }
  ]
}